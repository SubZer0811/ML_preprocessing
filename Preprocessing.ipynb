{
  "nbformat": 4,
  "nbformat_minor": 0,
  "metadata": {
    "colab": {
      "name": "Preprocessing",
      "provenance": [],
      "collapsed_sections": [],
      "authorship_tag": "ABX9TyM/ZkenUVhgUvtMm6n5GS90",
      "include_colab_link": true
    },
    "kernelspec": {
      "display_name": "Python 3",
      "name": "python3"
    }
  },
  "cells": [
    {
      "cell_type": "markdown",
      "metadata": {
        "id": "view-in-github",
        "colab_type": "text"
      },
      "source": [
        "<a href=\"https://colab.research.google.com/github/SubZer0811/ML_preprocessing/blob/main/Preprocessing.ipynb\" target=\"_parent\"><img src=\"https://colab.research.google.com/assets/colab-badge.svg\" alt=\"Open In Colab\"/></a>"
      ]
    },
    {
      "cell_type": "markdown",
      "metadata": {
        "id": "wOE1fsi8srpO"
      },
      "source": [
        "# README\n",
        "\n",
        "This is the directory that contains datasets, tags, weights, etc. for training the AUV Gazebo pool simulation.\n",
        "\n",
        "## Description on the directory structure\n",
        "- `dataset`: This directory contains zip files each containing at most 100 images that are assigned to people for tagging. \n",
        "- `tags`: This folder contains tags in .csv format.\n",
        "- `preprocessed data`: Since we are using yolo for object detection, the tags need to be converted to a format accepted by yolo. This directory contains zip files that contains tag files along with the images. The images in the zip folder are the same images that are present in `dataset` directory.\n",
        "- `classes.txt`: This file contains the tags present in the dataset.\n",
        "\n",
        "## Training_[ ]\n",
        "\n",
        "Training_[ ] contains the following directory structure: \n",
        "- `images`: This folder contains all images along with tag files for each image.\n",
        "- `cfg`: This folder should contain the configuration file for training on darknet. This folder might not contain any configuration file in which case, you may need to create one.\n",
        "- `weights`: This folder contains the weights that may have been obtained from training.\n",
        "- `train.txt`: This file contains the path to images in training set.\n",
        "- `test.txt`: This file contains the path to images in testing set.\n",
        "- `valid.txt`: This file contains the path to images in validation set.\n",
        "- `classes.txt`: This file contains the tags present in the dataset.\n",
        "- `detector.data`: This file contains the path to the above mentioned directories and files for darknet."
      ]
    },
    {
      "cell_type": "markdown",
      "metadata": {
        "id": "vKwtstBdfkb3"
      },
      "source": [
        "# Connect to google drive"
      ]
    },
    {
      "cell_type": "code",
      "metadata": {
        "colab": {
          "base_uri": "https://localhost:8080/"
        },
        "id": "E5MU-hF3fhCk",
        "outputId": "58977e99-6a29-4783-91ee-1470b377b518"
      },
      "source": [
        "from google.colab import drive\n",
        "drive.mount('/content/drive')"
      ],
      "execution_count": null,
      "outputs": [
        {
          "output_type": "stream",
          "text": [
            "Drive already mounted at /content/drive; to attempt to forcibly remount, call drive.mount(\"/content/drive\", force_remount=True).\n"
          ],
          "name": "stdout"
        }
      ]
    },
    {
      "cell_type": "markdown",
      "metadata": {
        "id": "TscXQWljU0iq"
      },
      "source": [
        "Some path variables to make the code more readable"
      ]
    },
    {
      "cell_type": "code",
      "metadata": {
        "id": "T7LPh9e9fyGl"
      },
      "source": [
        "WORKING_DIR = \"/content/ws/\"\n",
        "DRIVE_PATH = \"/content/drive/MyDrive/AUV\\ SOCIETY/1-CS/AUV_sim_dataset/\""
      ],
      "execution_count": null,
      "outputs": []
    },
    {
      "cell_type": "code",
      "metadata": {
        "colab": {
          "base_uri": "https://localhost:8080/"
        },
        "id": "mqN5ZvrKg12e",
        "outputId": "a4a2937f-9f45-4168-c2a3-043044fac5b1"
      },
      "source": [
        "import os\n",
        "os.system(f'mkdir {WORKING_DIR}')\n",
        "os.system(f'cp -r {DRIVE_PATH}* {WORKING_DIR}')\n",
        "!ls /content/ws/"
      ],
      "execution_count": null,
      "outputs": [
        {
          "output_type": "stream",
          "text": [
            "classes.txt  dataset  preprocessed_data  tags  Training_1\n"
          ],
          "name": "stdout"
        }
      ]
    },
    {
      "cell_type": "markdown",
      "metadata": {
        "id": "q-NzyNgQNKRA"
      },
      "source": [
        "# Load classes and colour codes for verifying"
      ]
    },
    {
      "cell_type": "code",
      "metadata": {
        "colab": {
          "base_uri": "https://localhost:8080/",
          "height": 584
        },
        "id": "UB4oKK8nNIUK",
        "outputId": "d2312c6f-d2dd-42df-af23-f39a869631b0"
      },
      "source": [
        "import cv2\n",
        "import numpy as np\n",
        "from google.colab.patches import cv2_imshow\n",
        "\n",
        "classes_file = open(f'{WORKING_DIR}classes.txt')\n",
        "class_to_id = {}\n",
        "id_to_class = {}\n",
        "class_colours = {\n",
        "    0: (0, 255, 0),\n",
        "    1: (0, 0, 255),\n",
        "    2: (255, 255, 0),\n",
        "    3: (30, 110, 30),\n",
        "    4: (0, 255, 255),\n",
        "    5: (255, 0, 255),\n",
        "    6: (255, 0, 0),\n",
        "}\n",
        "\n",
        "\n",
        "l = classes_file.readline()\n",
        "count = 0\n",
        "while l:\n",
        "    class_to_id[l.strip('\\n')] = count\n",
        "    id_to_class[count] = (l.strip('\\n'), )\n",
        "    count += 1\n",
        "    l = classes_file.readline()\n",
        "\n",
        "img_3 = np.zeros([512,512,3],dtype=np.uint8)\n",
        "img_3.fill(255)\n",
        "\n",
        "x = 50; y = 50\n",
        "for id in class_colours:\n",
        "    cv2.rectangle(img_3, (x, y), (x+30, y+30), class_colours[id], -1)\n",
        "    cv2.putText(img_3, str(id_to_class[id]), (x+60, y+20), cv2.FONT_HERSHEY_SIMPLEX, 0.5, (0, 0, 0), 1)\n",
        "\n",
        "    y += 50\n",
        "\n",
        "cv2_imshow(img_3)\n",
        "cv2.imwrite(f\"{WORKING_DIR}colour_code.png\", img_3)\n",
        "\n",
        "print(class_to_id)\n",
        "print(id_to_class)\n"
      ],
      "execution_count": null,
      "outputs": [
        {
          "output_type": "display_data",
          "data": {
            "image/png": "[encoded data removed]",
            "text/plain": [
              "<PIL.Image.Image image mode=RGB size=512x512 at 0x7F87F7457780>"
            ]
          },
          "metadata": {
            "tags": []
          }
        },
        {
          "output_type": "stream",
          "text": [
            "{'green_pole': 0, 'red_pole': 1, 'mid_pole': 2, 'gate': 3, 'obstacle': 4, 'red_bucket': 5, 'blue_bucket': 6}\n",
            "{0: ('green_pole',), 1: ('red_pole',), 2: ('mid_pole',), 3: ('gate',), 4: ('obstacle',), 5: ('red_bucket',), 6: ('blue_bucket',)}\n"
          ],
          "name": "stdout"
        }
      ]
    },
    {
      "cell_type": "markdown",
      "metadata": {
        "id": "GVKSjUJ7V5S1"
      },
      "source": [
        "# Assign dataset number to preprocess"
      ]
    },
    {
      "cell_type": "code",
      "metadata": {
        "id": "uwtM-x-xVzCq"
      },
      "source": [
        "NUMBER = 1"
      ],
      "execution_count": null,
      "outputs": []
    },
    {
      "cell_type": "markdown",
      "metadata": {
        "id": "IHmlIPUR76Xn"
      },
      "source": [
        "# Convert tags from .csv format to yolo format"
      ]
    },
    {
      "cell_type": "code",
      "metadata": {
        "id": "HlOF4BZoidMf"
      },
      "source": [
        "%matplotlib inline\n",
        "import random\n",
        "import cv2\n",
        "\n",
        "def convert(FILE):\n",
        "\n",
        "    yolof = open(f'{WORKING_DIR}tags/{FILE}', 'r')\n",
        "    print(f\"{WORKING_DIR}tags/{FILE}\")\n",
        "    preprocessed_data = f'{WORKING_DIR}preprocessed_data/{NUMBER}/'\n",
        "    os.system(f'mkdir {preprocessed_data}')\n",
        "    testing_set = f'{WORKING_DIR}testing_set/{NUMBER}/'\n",
        "    os.system(f'mkdir {testing_set}')\n",
        "\n",
        "    dataset = f'{WORKING_DIR}dataset/'\n",
        "    os.system(f'unzip -j {dataset}{NUMBER}.zip -d {dataset}{NUMBER}')\n",
        "    dataset = dataset + str(NUMBER) + '/'\n",
        "\n",
        "    j = 1\n",
        "    TEST_TOTAL = 5\n",
        "    test_count = 0\n",
        "\n",
        "    line = yolof.readline()\n",
        "    line = yolof.readline()\n",
        "\n",
        "    while (line != ''):\n",
        "\n",
        "        spl = line.strip('\\n').split(sep=',')\n",
        "        \n",
        "        img_name = spl[0].strip('\"')\n",
        "        img_path = dataset + img_name\n",
        "        print(img_path)\n",
        "        img = cv2.imread(img_path)\n",
        "        \n",
        "        # if random.randrange(1000)%99 == 0 and test_count < TEST_TOTAL:\n",
        "        #     filename = testing_set + img_name.split(sep='.')[0] + \".txt\"\n",
        "        #     os.system(f'cp {img_path} {testing_set}')\n",
        "\n",
        "        # else:\n",
        "        #     filename = training_set + img_name.split(sep='.')[0] + \".txt\"\n",
        "        #     os.system(f'cp {img_path} {training_set}')\n",
        "\n",
        "        filename = preprocessed_data + img_name.split(sep='.')[0] + \".txt\"\n",
        "        os.system(f'cp {img_path} {preprocessed_data}')\n",
        "\n",
        "        txtfile = open(filename, 'a')\n",
        "\n",
        "        text = spl[1:-1]\n",
        "        text = [float(i) for i in text]\n",
        "\n",
        "        x = (text[0] + text[2])/2           # center of box\n",
        "        y = (text[1] + text[3])/2           # center of box\n",
        "        w = text[2] - text[0]               # width of box\n",
        "        h = text[3] - text[1]               # height of box\n",
        "\n",
        "        class_ = spl[-1].strip('\"\\n')\n",
        "\n",
        "        dncoords = ''\n",
        "        dncoords += str(class_to_id[class_]) + ' '\n",
        "        dncoords += str(x/img.shape[1]) + ' '\n",
        "        dncoords += str(y/img.shape[0]) + ' '\n",
        "        dncoords += str(w/img.shape[1]) + ' '\n",
        "        dncoords += str(h/img.shape[0]) + '\\n'\n",
        "\n",
        "        txtfile.writelines(dncoords)\n",
        "\n",
        "        line = yolof.readline()\n",
        "        j+=1\n",
        "\n",
        "convert(f\"{NUMBER}.csv\")"
      ],
      "execution_count": null,
      "outputs": []
    },
    {
      "cell_type": "markdown",
      "metadata": {
        "id": "Ik1wAe22TcVV"
      },
      "source": [
        "# Check if all images are annotated correctly"
      ]
    },
    {
      "cell_type": "code",
      "metadata": {
        "id": "PE0wYamkTTSf"
      },
      "source": [
        "from google.colab.patches import cv2_imshow\n",
        "from IPython.display import clear_output \n",
        "\n",
        "def show(img_path):\n",
        "\n",
        "    print(img_path)\n",
        "    img = cv2.imread(img_path)\n",
        "    f = open(img_path.split('.')[0] + \".txt\")\n",
        "    dh, dw, _ = img.shape\n",
        "\n",
        "    line = f.readline()\n",
        "\n",
        "    while line:\n",
        "\n",
        "        class_id, x, y, w, h = map(float, line.split(' '))\n",
        "        \n",
        "        l = int((x - w / 2) * dw)\n",
        "        r = int((x + w / 2) * dw)\n",
        "        t = int((y - h / 2) * dh)\n",
        "        b = int((y + h / 2) * dh)\n",
        "        \n",
        "        if l < 0:\n",
        "            l = 0\n",
        "        if r > dw - 1:\n",
        "            r = dw - 1\n",
        "        if t < 0:\n",
        "            t = 0\n",
        "        if b > dh - 1:\n",
        "            b = dh - 1\n",
        "\n",
        "        cv2.rectangle(img, (l, t), (r, b), class_colours[class_id], 2)\n",
        "        cv2.putText(img, img_path.split('/')[-1], (50, 50), cv2.FONT_HERSHEY_SIMPLEX, 0.5, (0, 255, 0), 2)\n",
        "        \n",
        "        line = f.readline()\n",
        "    f.close()\n",
        "\n",
        "    cv2_imshow(img)\n",
        "    cv2.waitKey()\n",
        "\n",
        "# imgs = os.listdir(f'{WORKING_DIR}testing_set/{NUMBER}')\n",
        "\n",
        "# for x in imgs:\n",
        "#     if x.endswith('.jpg'):\n",
        "#         show(f'{WORKING_DIR}testing_set/{NUMBER}/{x}')\n",
        "#         # cv2.waitKey()\n",
        "#         # clear_output()\n",
        "\n",
        "\n",
        "imgs = os.listdir(f'{WORKING_DIR}preprocessed_data/{NUMBER}')\n",
        "\n",
        "for x in imgs:\n",
        "    if x.endswith('.jpg'):\n",
        "        show(f'{WORKING_DIR}preprocessed_data/{NUMBER}/{x}')\n",
        "        # clear_output()"
      ],
      "execution_count": null,
      "outputs": []
    },
    {
      "cell_type": "markdown",
      "metadata": {
        "id": "YeoBUYBZVVjB"
      },
      "source": [
        "# Save converted tags along with images to cloud"
      ]
    },
    {
      "cell_type": "code",
      "metadata": {
        "colab": {
          "base_uri": "https://localhost:8080/"
        },
        "id": "UoVW4wmtOhQj",
        "outputId": "d4ea4406-2b4f-4eb2-f65b-4345196e55fc"
      },
      "source": [
        "os.system(f'cd {WORKING_DIR}preprocessed_data/; zip -r -D {DRIVE_PATH}/preprocessed_data/{NUMBER}.zip {NUMBER}')"
      ],
      "execution_count": null,
      "outputs": [
        {
          "output_type": "execute_result",
          "data": {
            "text/plain": [
              "0"
            ]
          },
          "metadata": {
            "tags": []
          },
          "execution_count": 25
        }
      ]
    },
    {
      "cell_type": "markdown",
      "metadata": {
        "id": "bD68MTuXIc2v"
      },
      "source": [
        "# Generate file structure for training with darknet"
      ]
    },
    {
      "cell_type": "code",
      "metadata": {
        "id": "xmG-avDqIcgp"
      },
      "source": [
        "FOLDER_NAME = \"Training_1/\""
      ],
      "execution_count": null,
      "outputs": []
    },
    {
      "cell_type": "code",
      "metadata": {
        "colab": {
          "base_uri": "https://localhost:8080/"
        },
        "id": "5toLyld7I71a",
        "outputId": "95a52ba8-3d1a-45cd-f1b7-cdb5719b83d7"
      },
      "source": [
        "os.system(f\"mkdir -p {WORKING_DIR}{FOLDER_NAME}weights\")\n",
        "os.system(f\"mkdir -p {WORKING_DIR}{FOLDER_NAME}images\")\n",
        "os.system(f\"mkdir -p {WORKING_DIR}{FOLDER_NAME}cfg\")"
      ],
      "execution_count": null,
      "outputs": [
        {
          "output_type": "execute_result",
          "data": {
            "text/plain": [
              "0"
            ]
          },
          "metadata": {
            "tags": []
          },
          "execution_count": 27
        }
      ]
    },
    {
      "cell_type": "code",
      "metadata": {
        "id": "4YRuVbv2g36_"
      },
      "source": [
        ""
      ],
      "execution_count": null,
      "outputs": []
    },
    {
      "cell_type": "code",
      "metadata": {
        "colab": {
          "base_uri": "https://localhost:8080/"
        },
        "id": "bEKZu1sLWO4Q",
        "outputId": "66a40c47-1b98-4d86-8c85-8b8d296681a5"
      },
      "source": [
        "import random\n",
        "\n",
        "to_be_unzipped = [1, 2, 3, 4, 5, 6, 7]\n",
        "\n",
        "os.system(f\"mkdir -p {WORKING_DIR}{FOLDER_NAME}tmp\")\n",
        "\n",
        "for id in to_be_unzipped:\n",
        "    os.system(f'unzip -j {WORKING_DIR}preprocessed_data/{id}.zip -d {WORKING_DIR}Training_1/images')\n",
        "\n",
        "list_dir = os.listdir(f'{WORKING_DIR}Training_1/images')\n",
        "imgs = []\n",
        "org_imgs = []\n",
        "train = []\n",
        "valid = []\n",
        "test = []\n",
        "\n",
        "for x in list_dir:\n",
        "    if x.endswith('.jpg'):\n",
        "        imgs.append(x)\n",
        "\n",
        "org_imgs = imgs.copy()\n",
        "len_train = int(0.8 * len(imgs))\n",
        "len_valid = int(0.1 * len(imgs))\n",
        "len_test = len(imgs) - len_train - len_valid\n",
        "\n",
        "print(f\"TOTAL: {len(imgs)}\")\n",
        "print(f'len_train: {len_train}')\n",
        "print(f'len_valid: {len_valid}')\n",
        "print(f'len_test: {len_test}')\n",
        "\n",
        "for i in range(len_train):\n",
        "    id = random.randint(0, len(imgs)-1)\n",
        "    train.append(imgs[id])\n",
        "    imgs.remove(imgs[id])\n",
        "\n",
        "for i in range(len_test):\n",
        "    id = random.randint(0, len(imgs)-1)\n",
        "    test.append(imgs[id])\n",
        "    imgs.remove(imgs[id])\n",
        "\n",
        "valid = imgs\n",
        "\n",
        "print(f'\\nlen_train: {len(train)}')\n",
        "print(f'len_valid: {len(valid)}')\n",
        "print(f'len_test: {len(test)}')\n",
        "\n",
        "# VERIFY IF SETS ARE MUTUALLY EXCLUSIVE\n",
        "temp = test + train + valid\n",
        "temp.sort()\n",
        "org_imgs.sort()\n",
        "print(temp)\n",
        "print(org_imgs)\n",
        "\n",
        "if org_imgs == temp:\n",
        "    print(\"MUTUALLY EXCLUSIVE\")\n",
        "\n",
        "    train_file = open(f'{WORKING_DIR}{FOLDER_NAME}train.txt', 'w')\n",
        "    for i in train:\n",
        "        train_file.write(f'images/{i}\\n')\n",
        "    train_file.close()\n",
        "\n",
        "    test_file = open(f'{WORKING_DIR}{FOLDER_NAME}test.txt', 'w')\n",
        "    for i in test:\n",
        "        test_file.write(f'images/{i}\\n')\n",
        "    test_file.close()\n",
        "\n",
        "    valid_file = open(f'{WORKING_DIR}{FOLDER_NAME}valid.txt', 'w')\n",
        "    for i in valid:\n",
        "        valid_file.write(f'images/{i}\\n')\n",
        "    valid_file.close()\n",
        "\n",
        "else:\n",
        "    print(\"ERROR\")\n",
        "\n"
      ],
      "execution_count": null,
      "outputs": [
        {
          "output_type": "stream",
          "text": [
            "TOTAL: 664\n",
            "len_train: 531\n",
            "len_valid: 66\n",
            "len_test: 67\n",
            "\n",
            "len_train: 531\n",
            "len_valid: 66\n",
            "len_test: 67\n",
            "['1.jpg', '10.jpg', '100.jpg', '101.jpg', '102.jpg', '103.jpg', '104.jpg', '105.jpg', '106.jpg', '107.jpg', '108.jpg', '109.jpg', '11.jpg', '110.jpg', '111.jpg', '112.jpg', '113.jpg', '114.jpg', '115.jpg', '116.jpg', '117.jpg', '118.jpg', '119.jpg', '12.jpg', '120.jpg', '121.jpg', '122.jpg', '123.jpg', '124.jpg', '125.jpg', '126.jpg', '127.jpg', '128.jpg', '129.jpg', '13.jpg', '130.jpg', '131.jpg', '132.jpg', '133.jpg', '134.jpg', '135.jpg', '136.jpg', '137.jpg', '138.jpg', '139.jpg', '14.jpg', '140.jpg', '141.jpg', '142.jpg', '143.jpg', '144.jpg', '145.jpg', '146.jpg', '147.jpg', '148.jpg', '149.jpg', '15.jpg', '150.jpg', '151.jpg', '152.jpg', '153.jpg', '154.jpg', '155.jpg', '156.jpg', '157.jpg', '158.jpg', '159.jpg', '16.jpg', '160.jpg', '161.jpg', '162.jpg', '163.jpg', '164.jpg', '165.jpg', '166.jpg', '167.jpg', '168.jpg', '169.jpg', '17.jpg', '170.jpg', '171.jpg', '172.jpg', '173.jpg', '174.jpg', '175.jpg', '176.jpg', '177.jpg', '178.jpg', '179.jpg', '18.jpg', '180.jpg', '181.jpg', '182.jpg', '183.jpg', '184.jpg', '185.jpg', '186.jpg', '187.jpg', '188.jpg', '189.jpg', '19.jpg', '190.jpg', '191.jpg', '192.jpg', '193.jpg', '194.jpg', '195.jpg', '196.jpg', '197.jpg', '198.jpg', '199.jpg', '2.jpg', '20.jpg', '200.jpg', '201.jpg', '202.jpg', '203.jpg', '204.jpg', '205.jpg', '206.jpg', '207.jpg', '208.jpg', '209.jpg', '21.jpg', '210.jpg', '211.jpg', '212.jpg', '213.jpg', '214.jpg', '215.jpg', '216.jpg', '217.jpg', '218.jpg', '219.jpg', '22.jpg', '220.jpg', '221.jpg', '222.jpg', '223.jpg', '224.jpg', '225.jpg', '226.jpg', '227.jpg', '228.jpg', '229.jpg', '23.jpg', '230.jpg', '231.jpg', '232.jpg', '233.jpg', '234.jpg', '235.jpg', '236.jpg', '237.jpg', '238.jpg', '239.jpg', '24.jpg', '240.jpg', '241.jpg', '242.jpg', '243.jpg', '244.jpg', '245.jpg', '246.jpg', '247.jpg', '248.jpg', '249.jpg', '25.jpg', '250.jpg', '251.jpg', '252.jpg', '253.jpg', '254.jpg', '255.jpg', '256.jpg', '257.jpg', '258.jpg', '259.jpg', '26.jpg', '260.jpg', '261.jpg', '262.jpg', '263.jpg', '264.jpg', '265.jpg', '266.jpg', '267.jpg', '268.jpg', '269.jpg', '27.jpg', '270.jpg', '271.jpg', '272.jpg', '273.jpg', '274.jpg', '275.jpg', '276.jpg', '277.jpg', '278.jpg', '279.jpg', '28.jpg', '280.jpg', '281.jpg', '282.jpg', '283.jpg', '284.jpg', '285.jpg', '286.jpg', '287.jpg', '288.jpg', '289.jpg', '29.jpg', '290.jpg', '291.jpg', '292.jpg', '293.jpg', '296.jpg', '297.jpg', '298.jpg', '299.jpg', '3.jpg', '30.jpg', '300.jpg', '301.jpg', '302.jpg', '303.jpg', '304.jpg', '305.jpg', '306.jpg', '307.jpg', '308.jpg', '309.jpg', '31.jpg', '310.jpg', '311.jpg', '312.jpg', '313.jpg', '314.jpg', '315.jpg', '316.jpg', '317.jpg', '318.jpg', '319.jpg', '32.jpg', '320.jpg', '321.jpg', '322.jpg', '323.jpg', '324.jpg', '325.jpg', '326.jpg', '327.jpg', '328.jpg', '329.jpg', '33.jpg', '330.jpg', '331.jpg', '332.jpg', '333.jpg', '334.jpg', '335.jpg', '336.jpg', '337.jpg', '338.jpg', '339.jpg', '34.jpg', '340.jpg', '341.jpg', '342.jpg', '343.jpg', '344.jpg', '345.jpg', '346.jpg', '347.jpg', '348.jpg', '349.jpg', '35.jpg', '350.jpg', '351.jpg', '352.jpg', '353.jpg', '354.jpg', '355.jpg', '356.jpg', '357.jpg', '358.jpg', '359.jpg', '36.jpg', '360.jpg', '361.jpg', '362.jpg', '363.jpg', '364.jpg', '365.jpg', '366.jpg', '367.jpg', '368.jpg', '369.jpg', '37.jpg', '370.jpg', '371.jpg', '372.jpg', '373.jpg', '374.jpg', '375.jpg', '376.jpg', '377.jpg', '378.jpg', '379.jpg', '38.jpg', '380.jpg', '381.jpg', '382.jpg', '383.jpg', '384.jpg', '385.jpg', '386.jpg', '387.jpg', '388.jpg', '389.jpg', '39.jpg', '390.jpg', '391.jpg', '392.jpg', '393.jpg', '394.jpg', '395.jpg', '396.jpg', '397.jpg', '398.jpg', '399.jpg', '4.jpg', '40.jpg', '400.jpg', '401.jpg', '402.jpg', '403.jpg', '404.jpg', '405.jpg', '406.jpg', '407.jpg', '408.jpg', '409.jpg', '41.jpg', '410.jpg', '411.jpg', '412.jpg', '413.jpg', '414.jpg', '415.jpg', '416.jpg', '417.jpg', '418.jpg', '419.jpg', '42.jpg', '420.jpg', '421.jpg', '422.jpg', '423.jpg', '424.jpg', '425.jpg', '426.jpg', '427.jpg', '428.jpg', '429.jpg', '43.jpg', '430.jpg', '431.jpg', '432.jpg', '433.jpg', '434.jpg', '435.jpg', '436.jpg', '437.jpg', '438.jpg', '439.jpg', '44.jpg', '440.jpg', '441.jpg', '442.jpg', '443.jpg', '444.jpg', '445.jpg', '446.jpg', '447.jpg', '448.jpg', '449.jpg', '45.jpg', '450.jpg', '451.jpg', '452.jpg', '453.jpg', '454.jpg', '455.jpg', '456.jpg', '457.jpg', '458.jpg', '459.jpg', '46.jpg', '460.jpg', '461.jpg', '462.jpg', '463.jpg', '464.jpg', '465.jpg', '466.jpg', '467.jpg', '468.jpg', '469.jpg', '47.jpg', '470.jpg', '471.jpg', '472.jpg', '473.jpg', '474.jpg', '475.jpg', '476.jpg', '477.jpg', '478.jpg', '479.jpg', '48.jpg', '480.jpg', '481.jpg', '482.jpg', '483.jpg', '484.jpg', '485.jpg', '486.jpg', '487.jpg', '488.jpg', '489.jpg', '49.jpg', '490.jpg', '491.jpg', '492.jpg', '493.jpg', '494.jpg', '495.jpg', '496.jpg', '497.jpg', '498.jpg', '499.jpg', '5.jpg', '50.jpg', '500.jpg', '501.jpg', '502.jpg', '503.jpg', '504.jpg', '505.jpg', '506.jpg', '507.jpg', '508.jpg', '509.jpg', '51.jpg', '510.jpg', '511.jpg', '512.jpg', '513.jpg', '514.jpg', '515.jpg', '516.jpg', '517.jpg', '518.jpg', '519.jpg', '52.jpg', '520.jpg', '521.jpg', '522.jpg', '523.jpg', '524.jpg', '525.jpg', '526.jpg', '527.jpg', '528.jpg', '529.jpg', '53.jpg', '530.jpg', '531.jpg', '532.jpg', '533.jpg', '534.jpg', '535.jpg', '536.jpg', '537.jpg', '538.jpg', '539.jpg', '54.jpg', '540.jpg', '541.jpg', '542.jpg', '543.jpg', '544.jpg', '545.jpg', '546.jpg', '547.jpg', '548.jpg', '549.jpg', '55.jpg', '550.jpg', '551.jpg', '552.jpg', '553.jpg', '554.jpg', '555.jpg', '556.jpg', '557.jpg', '558.jpg', '559.jpg', '56.jpg', '560.jpg', '561.jpg', '562.jpg', '563.jpg', '564.jpg', '565.jpg', '566.jpg', '567.jpg', '568.jpg', '569.jpg', '57.jpg', '570.jpg', '571.jpg', '572.jpg', '573.jpg', '574.jpg', '575.jpg', '576.jpg', '577.jpg', '578.jpg', '579.jpg', '58.jpg', '580.jpg', '581.jpg', '582.jpg', '583.jpg', '584.jpg', '585.jpg', '586.jpg', '587.jpg', '588.jpg', '589.jpg', '59.jpg', '590.jpg', '591.jpg', '592.jpg', '593.jpg', '594.jpg', '595.jpg', '596.jpg', '597.jpg', '598.jpg', '599.jpg', '6.jpg', '60.jpg', '600.jpg', '601.jpg', '602.jpg', '603.jpg', '604.jpg', '605.jpg', '606.jpg', '607.jpg', '608.jpg', '609.jpg', '61.jpg', '610.jpg', '611.jpg', '612.jpg', '613.jpg', '614.jpg', '615.jpg', '616.jpg', '617.jpg', '618.jpg', '619.jpg', '62.jpg', '620.jpg', '621.jpg', '622.jpg', '623.jpg', '624.jpg', '625.jpg', '626.jpg', '627.jpg', '628.jpg', '629.jpg', '63.jpg', '630.jpg', '631.jpg', '632.jpg', '633.jpg', '634.jpg', '635.jpg', '636.jpg', '637.jpg', '638.jpg', '639.jpg', '64.jpg', '640.jpg', '641.jpg', '642.jpg', '643.jpg', '644.jpg', '645.jpg', '646.jpg', '647.jpg', '648.jpg', '649.jpg', '65.jpg', '650.jpg', '651.jpg', '652.jpg', '653.jpg', '654.jpg', '655.jpg', '656.jpg', '657.jpg', '658.jpg', '659.jpg', '66.jpg', '660.jpg', '661.jpg', '662.jpg', '663.jpg', '664.jpg', '665.jpg', '666.jpg', '67.jpg', '68.jpg', '69.jpg', '7.jpg', '70.jpg', '71.jpg', '72.jpg', '73.jpg', '74.jpg', '75.jpg', '76.jpg', '77.jpg', '78.jpg', '79.jpg', '8.jpg', '80.jpg', '81.jpg', '82.jpg', '83.jpg', '84.jpg', '85.jpg', '86.jpg', '87.jpg', '88.jpg', '89.jpg', '9.jpg', '90.jpg', '91.jpg', '92.jpg', '93.jpg', '94.jpg', '95.jpg', '96.jpg', '97.jpg', '98.jpg', '99.jpg']\n",
            "['1.jpg', '10.jpg', '100.jpg', '101.jpg', '102.jpg', '103.jpg', '104.jpg', '105.jpg', '106.jpg', '107.jpg', '108.jpg', '109.jpg', '11.jpg', '110.jpg', '111.jpg', '112.jpg', '113.jpg', '114.jpg', '115.jpg', '116.jpg', '117.jpg', '118.jpg', '119.jpg', '12.jpg', '120.jpg', '121.jpg', '122.jpg', '123.jpg', '124.jpg', '125.jpg', '126.jpg', '127.jpg', '128.jpg', '129.jpg', '13.jpg', '130.jpg', '131.jpg', '132.jpg', '133.jpg', '134.jpg', '135.jpg', '136.jpg', '137.jpg', '138.jpg', '139.jpg', '14.jpg', '140.jpg', '141.jpg', '142.jpg', '143.jpg', '144.jpg', '145.jpg', '146.jpg', '147.jpg', '148.jpg', '149.jpg', '15.jpg', '150.jpg', '151.jpg', '152.jpg', '153.jpg', '154.jpg', '155.jpg', '156.jpg', '157.jpg', '158.jpg', '159.jpg', '16.jpg', '160.jpg', '161.jpg', '162.jpg', '163.jpg', '164.jpg', '165.jpg', '166.jpg', '167.jpg', '168.jpg', '169.jpg', '17.jpg', '170.jpg', '171.jpg', '172.jpg', '173.jpg', '174.jpg', '175.jpg', '176.jpg', '177.jpg', '178.jpg', '179.jpg', '18.jpg', '180.jpg', '181.jpg', '182.jpg', '183.jpg', '184.jpg', '185.jpg', '186.jpg', '187.jpg', '188.jpg', '189.jpg', '19.jpg', '190.jpg', '191.jpg', '192.jpg', '193.jpg', '194.jpg', '195.jpg', '196.jpg', '197.jpg', '198.jpg', '199.jpg', '2.jpg', '20.jpg', '200.jpg', '201.jpg', '202.jpg', '203.jpg', '204.jpg', '205.jpg', '206.jpg', '207.jpg', '208.jpg', '209.jpg', '21.jpg', '210.jpg', '211.jpg', '212.jpg', '213.jpg', '214.jpg', '215.jpg', '216.jpg', '217.jpg', '218.jpg', '219.jpg', '22.jpg', '220.jpg', '221.jpg', '222.jpg', '223.jpg', '224.jpg', '225.jpg', '226.jpg', '227.jpg', '228.jpg', '229.jpg', '23.jpg', '230.jpg', '231.jpg', '232.jpg', '233.jpg', '234.jpg', '235.jpg', '236.jpg', '237.jpg', '238.jpg', '239.jpg', '24.jpg', '240.jpg', '241.jpg', '242.jpg', '243.jpg', '244.jpg', '245.jpg', '246.jpg', '247.jpg', '248.jpg', '249.jpg', '25.jpg', '250.jpg', '251.jpg', '252.jpg', '253.jpg', '254.jpg', '255.jpg', '256.jpg', '257.jpg', '258.jpg', '259.jpg', '26.jpg', '260.jpg', '261.jpg', '262.jpg', '263.jpg', '264.jpg', '265.jpg', '266.jpg', '267.jpg', '268.jpg', '269.jpg', '27.jpg', '270.jpg', '271.jpg', '272.jpg', '273.jpg', '274.jpg', '275.jpg', '276.jpg', '277.jpg', '278.jpg', '279.jpg', '28.jpg', '280.jpg', '281.jpg', '282.jpg', '283.jpg', '284.jpg', '285.jpg', '286.jpg', '287.jpg', '288.jpg', '289.jpg', '29.jpg', '290.jpg', '291.jpg', '292.jpg', '293.jpg', '296.jpg', '297.jpg', '298.jpg', '299.jpg', '3.jpg', '30.jpg', '300.jpg', '301.jpg', '302.jpg', '303.jpg', '304.jpg', '305.jpg', '306.jpg', '307.jpg', '308.jpg', '309.jpg', '31.jpg', '310.jpg', '311.jpg', '312.jpg', '313.jpg', '314.jpg', '315.jpg', '316.jpg', '317.jpg', '318.jpg', '319.jpg', '32.jpg', '320.jpg', '321.jpg', '322.jpg', '323.jpg', '324.jpg', '325.jpg', '326.jpg', '327.jpg', '328.jpg', '329.jpg', '33.jpg', '330.jpg', '331.jpg', '332.jpg', '333.jpg', '334.jpg', '335.jpg', '336.jpg', '337.jpg', '338.jpg', '339.jpg', '34.jpg', '340.jpg', '341.jpg', '342.jpg', '343.jpg', '344.jpg', '345.jpg', '346.jpg', '347.jpg', '348.jpg', '349.jpg', '35.jpg', '350.jpg', '351.jpg', '352.jpg', '353.jpg', '354.jpg', '355.jpg', '356.jpg', '357.jpg', '358.jpg', '359.jpg', '36.jpg', '360.jpg', '361.jpg', '362.jpg', '363.jpg', '364.jpg', '365.jpg', '366.jpg', '367.jpg', '368.jpg', '369.jpg', '37.jpg', '370.jpg', '371.jpg', '372.jpg', '373.jpg', '374.jpg', '375.jpg', '376.jpg', '377.jpg', '378.jpg', '379.jpg', '38.jpg', '380.jpg', '381.jpg', '382.jpg', '383.jpg', '384.jpg', '385.jpg', '386.jpg', '387.jpg', '388.jpg', '389.jpg', '39.jpg', '390.jpg', '391.jpg', '392.jpg', '393.jpg', '394.jpg', '395.jpg', '396.jpg', '397.jpg', '398.jpg', '399.jpg', '4.jpg', '40.jpg', '400.jpg', '401.jpg', '402.jpg', '403.jpg', '404.jpg', '405.jpg', '406.jpg', '407.jpg', '408.jpg', '409.jpg', '41.jpg', '410.jpg', '411.jpg', '412.jpg', '413.jpg', '414.jpg', '415.jpg', '416.jpg', '417.jpg', '418.jpg', '419.jpg', '42.jpg', '420.jpg', '421.jpg', '422.jpg', '423.jpg', '424.jpg', '425.jpg', '426.jpg', '427.jpg', '428.jpg', '429.jpg', '43.jpg', '430.jpg', '431.jpg', '432.jpg', '433.jpg', '434.jpg', '435.jpg', '436.jpg', '437.jpg', '438.jpg', '439.jpg', '44.jpg', '440.jpg', '441.jpg', '442.jpg', '443.jpg', '444.jpg', '445.jpg', '446.jpg', '447.jpg', '448.jpg', '449.jpg', '45.jpg', '450.jpg', '451.jpg', '452.jpg', '453.jpg', '454.jpg', '455.jpg', '456.jpg', '457.jpg', '458.jpg', '459.jpg', '46.jpg', '460.jpg', '461.jpg', '462.jpg', '463.jpg', '464.jpg', '465.jpg', '466.jpg', '467.jpg', '468.jpg', '469.jpg', '47.jpg', '470.jpg', '471.jpg', '472.jpg', '473.jpg', '474.jpg', '475.jpg', '476.jpg', '477.jpg', '478.jpg', '479.jpg', '48.jpg', '480.jpg', '481.jpg', '482.jpg', '483.jpg', '484.jpg', '485.jpg', '486.jpg', '487.jpg', '488.jpg', '489.jpg', '49.jpg', '490.jpg', '491.jpg', '492.jpg', '493.jpg', '494.jpg', '495.jpg', '496.jpg', '497.jpg', '498.jpg', '499.jpg', '5.jpg', '50.jpg', '500.jpg', '501.jpg', '502.jpg', '503.jpg', '504.jpg', '505.jpg', '506.jpg', '507.jpg', '508.jpg', '509.jpg', '51.jpg', '510.jpg', '511.jpg', '512.jpg', '513.jpg', '514.jpg', '515.jpg', '516.jpg', '517.jpg', '518.jpg', '519.jpg', '52.jpg', '520.jpg', '521.jpg', '522.jpg', '523.jpg', '524.jpg', '525.jpg', '526.jpg', '527.jpg', '528.jpg', '529.jpg', '53.jpg', '530.jpg', '531.jpg', '532.jpg', '533.jpg', '534.jpg', '535.jpg', '536.jpg', '537.jpg', '538.jpg', '539.jpg', '54.jpg', '540.jpg', '541.jpg', '542.jpg', '543.jpg', '544.jpg', '545.jpg', '546.jpg', '547.jpg', '548.jpg', '549.jpg', '55.jpg', '550.jpg', '551.jpg', '552.jpg', '553.jpg', '554.jpg', '555.jpg', '556.jpg', '557.jpg', '558.jpg', '559.jpg', '56.jpg', '560.jpg', '561.jpg', '562.jpg', '563.jpg', '564.jpg', '565.jpg', '566.jpg', '567.jpg', '568.jpg', '569.jpg', '57.jpg', '570.jpg', '571.jpg', '572.jpg', '573.jpg', '574.jpg', '575.jpg', '576.jpg', '577.jpg', '578.jpg', '579.jpg', '58.jpg', '580.jpg', '581.jpg', '582.jpg', '583.jpg', '584.jpg', '585.jpg', '586.jpg', '587.jpg', '588.jpg', '589.jpg', '59.jpg', '590.jpg', '591.jpg', '592.jpg', '593.jpg', '594.jpg', '595.jpg', '596.jpg', '597.jpg', '598.jpg', '599.jpg', '6.jpg', '60.jpg', '600.jpg', '601.jpg', '602.jpg', '603.jpg', '604.jpg', '605.jpg', '606.jpg', '607.jpg', '608.jpg', '609.jpg', '61.jpg', '610.jpg', '611.jpg', '612.jpg', '613.jpg', '614.jpg', '615.jpg', '616.jpg', '617.jpg', '618.jpg', '619.jpg', '62.jpg', '620.jpg', '621.jpg', '622.jpg', '623.jpg', '624.jpg', '625.jpg', '626.jpg', '627.jpg', '628.jpg', '629.jpg', '63.jpg', '630.jpg', '631.jpg', '632.jpg', '633.jpg', '634.jpg', '635.jpg', '636.jpg', '637.jpg', '638.jpg', '639.jpg', '64.jpg', '640.jpg', '641.jpg', '642.jpg', '643.jpg', '644.jpg', '645.jpg', '646.jpg', '647.jpg', '648.jpg', '649.jpg', '65.jpg', '650.jpg', '651.jpg', '652.jpg', '653.jpg', '654.jpg', '655.jpg', '656.jpg', '657.jpg', '658.jpg', '659.jpg', '66.jpg', '660.jpg', '661.jpg', '662.jpg', '663.jpg', '664.jpg', '665.jpg', '666.jpg', '67.jpg', '68.jpg', '69.jpg', '7.jpg', '70.jpg', '71.jpg', '72.jpg', '73.jpg', '74.jpg', '75.jpg', '76.jpg', '77.jpg', '78.jpg', '79.jpg', '8.jpg', '80.jpg', '81.jpg', '82.jpg', '83.jpg', '84.jpg', '85.jpg', '86.jpg', '87.jpg', '88.jpg', '89.jpg', '9.jpg', '90.jpg', '91.jpg', '92.jpg', '93.jpg', '94.jpg', '95.jpg', '96.jpg', '97.jpg', '98.jpg', '99.jpg']\n",
            "MUTUALLY EXCLUSIVE\n"
          ],
          "name": "stdout"
        }
      ]
    },
    {
      "cell_type": "code",
      "metadata": {
        "colab": {
          "base_uri": "https://localhost:8080/"
        },
        "id": "DliBRJPllmo8",
        "outputId": "ee22ff2d-34b4-4e4d-db8e-0d04569afe5f"
      },
      "source": [
        "os.system(f\"cp {WORKING_DIR}classes.txt {WORKING_DIR}{FOLDER_NAME}\")"
      ],
      "execution_count": null,
      "outputs": [
        {
          "output_type": "execute_result",
          "data": {
            "text/plain": [
              "0"
            ]
          },
          "metadata": {
            "tags": []
          },
          "execution_count": 77
        }
      ]
    },
    {
      "cell_type": "code",
      "metadata": {
        "colab": {
          "base_uri": "https://localhost:8080/"
        },
        "id": "11wVWliBmqvx",
        "outputId": "760c7124-fe53-4598-97f4-10fcabc7ffd3"
      },
      "source": [
        "os.system(f'cd {WORKING_DIR}; zip -r {DRIVE_PATH}{FOLDER_NAME[:-1]}.zip {FOLDER_NAME}*')"
      ],
      "execution_count": null,
      "outputs": [
        {
          "output_type": "execute_result",
          "data": {
            "text/plain": [
              "0"
            ]
          },
          "metadata": {
            "tags": []
          },
          "execution_count": 78
        }
      ]
    },
    {
      "cell_type": "markdown",
      "metadata": {
        "id": "mUA8gTpgVQgy"
      },
      "source": [
        "# REVERT"
      ]
    },
    {
      "cell_type": "code",
      "metadata": {
        "colab": {
          "base_uri": "https://localhost:8080/"
        },
        "id": "LAN-aT9YAWLQ",
        "outputId": "0bb2b05d-904e-4b85-bd7f-64522fc7de9d"
      },
      "source": [
        "os.system(f'rm -r {WORKING_DIR}')"
      ],
      "execution_count": null,
      "outputs": [
        {
          "output_type": "execute_result",
          "data": {
            "text/plain": [
              "0"
            ]
          },
          "metadata": {
            "tags": []
          },
          "execution_count": 28
        }
      ]
    }
  ]
}